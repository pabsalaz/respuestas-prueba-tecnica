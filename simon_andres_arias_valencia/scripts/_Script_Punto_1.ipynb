{
 "cells": [
  {
   "cell_type": "code",
   "execution_count": 1,
   "metadata": {},
   "outputs": [
    {
     "name": "stdout",
     "output_type": "stream",
     "text": [
      "Proceso completado. La base de datos SQLite ha sido actualizada con las nuevas tablas y cálculos.\n"
     ]
    }
   ],
   "source": [
    "import pandas as pd\n",
    "import sqlite3\n",
    "import re\n",
    "import os\n",
    "\n",
    "# Set display options\n",
    "pd.set_option('display.float_format', '{:.6f}'.format)\n",
    "\n",
    "# Definir rutas de archivos y directorios\n",
    "ruta = os.getcwd()\n",
    "ruta_data = os.path.abspath(os.path.join(ruta, '..', 'data'))\n",
    "file_obligaciones = os.path.join(ruta_data, 'datos_crudos', 'obligaciones_clientes.xlsx')\n",
    "file_tasas = os.path.join(ruta_data, 'datos_crudos', 'tasas_productos.xlsx')\n",
    "database_path = os.path.join(ruta_data, 'datos_refinados', 'database.db')\n",
    "sql_file_path = 'consulta_obligaciones.sql'\n",
    "\n",
    "# Leer los archivos Excel de obligaciones y tasas\n",
    "df_obligaciones = pd.read_excel(file_obligaciones, sheet_name=0)\n",
    "df_tasas = pd.read_excel(file_tasas, sheet_name=0)\n",
    "\n",
    "# Redondear columnas numéricas en df_tasas a 6 decimales\n",
    "numerical_columns = df_tasas.select_dtypes(include=['float', 'int']).columns\n",
    "df_tasas[numerical_columns] = df_tasas[numerical_columns].round(6)\n",
    "\n",
    "# Crear una conexión a la base de datos SQLite\n",
    "conn = sqlite3.connect(database_path)\n",
    "\n",
    "# Escribir los DataFrames en SQLite, especificando tipo 'REAL' para columnas numéricas\n",
    "df_obligaciones.to_sql('obligaciones', conn, if_exists='replace', index=False)\n",
    "df_tasas.to_sql('tasas', conn, if_exists='replace', index=False, dtype={col: 'REAL' for col in numerical_columns})\n",
    "\n",
    "# Definir la función personalizada para extraer el nombre del producto\n",
    "def extraer_nombre_producto(id_producto):\n",
    "    if id_producto is None:\n",
    "        return 'desconocido'\n",
    "    s = str(id_producto).strip()\n",
    "    # Normalizar guiones\n",
    "    s = s.replace('–', '-').replace('—', '-')\n",
    "    if '-' in s:\n",
    "        # Extraer texto después del último guión\n",
    "        parts = s.rsplit('-', 1)\n",
    "        substring = parts[1].strip()\n",
    "        # Eliminar caracteres no alfabéticos al principio\n",
    "        substring = re.sub(r'^[^a-zA-Z]+', '', substring)\n",
    "        #  Obtener la primera palabra\n",
    "        first_word = substring.split(' ')[0]\n",
    "        return first_word.lower()\n",
    "    else:\n",
    "        return 'desconocido'\n",
    "\n",
    "# Registrar la función personalizada en SQLite\n",
    "conn.create_function(\"extraer_nombre_producto\", 1, extraer_nombre_producto)\n",
    "\n",
    "# Leer y ejecutar el script SQL\n",
    "with open(sql_file_path, 'r') as sql_file:\n",
    "    sql_script = sql_file.read()\n",
    "    cursor = conn.cursor()\n",
    "    cursor.executescript(sql_script)\n",
    "\n",
    "# Confirmar cambios y cerrar la conexión\n",
    "conn.commit()\n",
    "conn.close()\n",
    "\n",
    "print(\"Proceso completado. La base de datos SQLite ha sido actualizada con las nuevas tablas y cálculos.\")"
   ]
  }
 ],
 "metadata": {
  "kernelspec": {
   "display_name": "Python 3",
   "language": "python",
   "name": "python3"
  },
  "language_info": {
   "codemirror_mode": {
    "name": "ipython",
    "version": 3
   },
   "file_extension": ".py",
   "mimetype": "text/x-python",
   "name": "python",
   "nbconvert_exporter": "python",
   "pygments_lexer": "ipython3",
   "version": "3.11.5"
  }
 },
 "nbformat": 4,
 "nbformat_minor": 2
}
